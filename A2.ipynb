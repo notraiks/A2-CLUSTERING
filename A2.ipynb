{
 "cells": [
  {
   "cell_type": "markdown",
   "id": "96af4108-2601-45f5-90e2-0d3a55ed85fb",
   "metadata": {},
   "source": [
    "# **ASSIGNMENT 2 - CLUSTERING**"
   ]
  },
  {
   "cell_type": "markdown",
   "id": "d19707dd-eb9b-453c-86c4-92bb405a3a3e",
   "metadata": {},
   "source": [
    "## **Submitted by:**\n",
    "- **Ladrera**, Raiken Lee\n",
    "- **Tibon**, Hestia  \n",
    "\n",
    "-----"
   ]
  },
  {
   "cell_type": "markdown",
   "id": "8035c11e-a035-4a6c-a63f-77aaf3c5258b",
   "metadata": {},
   "source": [
    "## **1. Introduction**"
   ]
  },
  {
   "cell_type": "markdown",
   "id": "115ef5ec-09fe-4895-8cc6-2bf97da0c704",
   "metadata": {},
   "source": [
    "@all  Assignment 2 For Clustering: Sessa Empirical Estimator\n",
    "1. Read the Journals about the Sessa Empirical Estimator.\n",
    "2. Convert the R codes into Python Codes (use jupyter notebook).\n",
    "3. Using Simulated data (https://www.frontiersin.org/journals/pharmacology/articles/10.3389/fphar.2019.00383/full) or a real world datasets of your choice (You can obtain it in Kaggle or in https://archive.ics.uci.edu/), perform the Sessa Empircal Estimator and generate some insights.\n",
    "4. The Sessa Empirical Estimator uses K-Means clustering (again recall the disadvantages of K-Means), try to substitute a different clustering algorithm, generate a new insight using the new clustering algorithm.\n",
    "5. Compare your results between Sessa Empirical Estimator using K-Means, and Sessa Empirical Estimator using the clustering algorithm of your choice.\n",
    "6. Deadline is this Sunday, Feb 23, 2022 at 11:59 pm\n",
    "7. Do this with your thesis partner.\n",
    "8. You can use any A.I. assistant."
   ]
  },
  {
   "cell_type": "markdown",
   "id": "d380f585-b6d6-4ff9-86f6-28e026b1e30c",
   "metadata": {},
   "source": [
    "<hr>"
   ]
  },
  {
   "cell_type": "markdown",
   "id": "ceba4343-d6b0-4e13-9917-28f4f183465b",
   "metadata": {},
   "source": [
    "## **2. Exploratory Data Analysis**"
   ]
  },
  {
   "cell_type": "markdown",
   "id": "cc31ea37-ecdd-4155-846d-eab968a004ae",
   "metadata": {},
   "source": [
    "### **2.1 Importing necessary packages and libraries**"
   ]
  },
  {
   "cell_type": "code",
   "execution_count": 61,
   "id": "6f5bdd86-3489-4cd0-be55-e06feb2681fc",
   "metadata": {},
   "outputs": [],
   "source": [
    "import pandas as pd\n",
    "import numpy as np\n",
    "import matplotlib.pyplot as plt\n",
    "import statsmodels.api as sm\n",
    "import seaborn as sns\n",
    "from sklearn.preprocessing import LabelEncoder, StandardScaler\n",
    "from sklearn.cluster import KMeans\n",
    "from sklearn.metrics import silhouette_score\n",
    "from scipy.stats import gaussian_kde\n",
    "from scipy.spatial.distance import cdist\n",
    "from datetime import datetime"
   ]
  },
  {
   "cell_type": "markdown",
   "id": "e324b252-e25d-4593-997f-7935c08e11c7",
   "metadata": {},
   "source": [
    "### **2.2 Importing the dataset**"
   ]
  },
  {
   "cell_type": "code",
   "execution_count": 62,
   "id": "f6bbf4b4-ce23-49a8-a001-62c5f7887e9a",
   "metadata": {},
   "outputs": [],
   "source": [
    "# Load the dataset [The simulated data is acquired from https://github.com/Masswear/BeyondThresholds]\n",
    "df = pd.read_csv(\"med_events.csv\")\n",
    "\n",
    "# Convert DATE column to datetime format\n",
    "df['DATE'] = pd.to_datetime(df['DATE'], errors='coerce')"
   ]
  },
  {
   "cell_type": "markdown",
   "id": "b70b6adc-b89f-4323-818a-4a5b0bccc987",
   "metadata": {},
   "source": [
    "### **2.3 Basic information of the dataset**"
   ]
  },
  {
   "cell_type": "code",
   "execution_count": 63,
   "id": "7e1a7050-eec5-4780-a3e6-0770e97ce409",
   "metadata": {},
   "outputs": [
    {
     "name": "stdout",
     "output_type": "stream",
     "text": [
      "<class 'pandas.core.frame.DataFrame'>\n",
      "RangeIndex: 2275 entries, 0 to 2274\n",
      "Data columns (total 5 columns):\n",
      " #   Column      Non-Null Count  Dtype         \n",
      "---  ------      --------------  -----         \n",
      " 0   PATIENT_ID  2275 non-null   int64         \n",
      " 1   DATE        2275 non-null   datetime64[ns]\n",
      " 2   PERDAY      2275 non-null   int64         \n",
      " 3   CATEGORY    2275 non-null   object        \n",
      " 4   DURATION    2275 non-null   int64         \n",
      "dtypes: datetime64[ns](1), int64(3), object(1)\n",
      "memory usage: 89.0+ KB\n"
     ]
    }
   ],
   "source": [
    "df.info()"
   ]
  },
  {
   "cell_type": "code",
   "execution_count": 64,
   "id": "d93b8c9a-1f1e-4fd3-9384-d9c7b2da8512",
   "metadata": {},
   "outputs": [
    {
     "data": {
      "text/plain": [
       "PATIENT_ID    0\n",
       "DATE          0\n",
       "PERDAY        0\n",
       "CATEGORY      0\n",
       "DURATION      0\n",
       "dtype: int64"
      ]
     },
     "execution_count": 64,
     "metadata": {},
     "output_type": "execute_result"
    }
   ],
   "source": [
    "df.isnull().sum()"
   ]
  },
  {
   "cell_type": "markdown",
   "id": "ea864fb6-69ec-4ea9-a5ae-94f2ed3389ce",
   "metadata": {},
   "source": [
    "### **2.5 Descriptive Statistics**"
   ]
  },
  {
   "cell_type": "code",
   "execution_count": 65,
   "id": "db0fc9bc-6680-48af-b799-c517ca44098b",
   "metadata": {},
   "outputs": [
    {
     "data": {
      "text/html": [
       "<div>\n",
       "<style scoped>\n",
       "    .dataframe tbody tr th:only-of-type {\n",
       "        vertical-align: middle;\n",
       "    }\n",
       "\n",
       "    .dataframe tbody tr th {\n",
       "        vertical-align: top;\n",
       "    }\n",
       "\n",
       "    .dataframe thead th {\n",
       "        text-align: right;\n",
       "    }\n",
       "</style>\n",
       "<table border=\"1\" class=\"dataframe\">\n",
       "  <thead>\n",
       "    <tr style=\"text-align: right;\">\n",
       "      <th></th>\n",
       "      <th>PATIENT_ID</th>\n",
       "      <th>DATE</th>\n",
       "      <th>PERDAY</th>\n",
       "      <th>DURATION</th>\n",
       "    </tr>\n",
       "  </thead>\n",
       "  <tbody>\n",
       "    <tr>\n",
       "      <th>count</th>\n",
       "      <td>2275.000000</td>\n",
       "      <td>2275</td>\n",
       "      <td>2275.000000</td>\n",
       "      <td>2275.000000</td>\n",
       "    </tr>\n",
       "    <tr>\n",
       "      <th>mean</th>\n",
       "      <td>46.050549</td>\n",
       "      <td>2024-02-03 03:53:33.890109696</td>\n",
       "      <td>7.959560</td>\n",
       "      <td>44.778022</td>\n",
       "    </tr>\n",
       "    <tr>\n",
       "      <th>min</th>\n",
       "      <td>1.000000</td>\n",
       "      <td>2022-01-01 00:00:00</td>\n",
       "      <td>2.000000</td>\n",
       "      <td>20.000000</td>\n",
       "    </tr>\n",
       "    <tr>\n",
       "      <th>25%</th>\n",
       "      <td>23.000000</td>\n",
       "      <td>2022-11-04 00:00:00</td>\n",
       "      <td>4.000000</td>\n",
       "      <td>30.000000</td>\n",
       "    </tr>\n",
       "    <tr>\n",
       "      <th>50%</th>\n",
       "      <td>46.000000</td>\n",
       "      <td>2023-12-23 00:00:00</td>\n",
       "      <td>6.000000</td>\n",
       "      <td>50.000000</td>\n",
       "    </tr>\n",
       "    <tr>\n",
       "      <th>75%</th>\n",
       "      <td>69.000000</td>\n",
       "      <td>2025-03-06 12:00:00</td>\n",
       "      <td>8.000000</td>\n",
       "      <td>50.000000</td>\n",
       "    </tr>\n",
       "    <tr>\n",
       "      <th>max</th>\n",
       "      <td>100.000000</td>\n",
       "      <td>2028-10-08 00:00:00</td>\n",
       "      <td>20.000000</td>\n",
       "      <td>100.000000</td>\n",
       "    </tr>\n",
       "    <tr>\n",
       "      <th>std</th>\n",
       "      <td>26.366232</td>\n",
       "      <td>NaN</td>\n",
       "      <td>6.260129</td>\n",
       "      <td>16.971222</td>\n",
       "    </tr>\n",
       "  </tbody>\n",
       "</table>\n",
       "</div>"
      ],
      "text/plain": [
       "        PATIENT_ID                           DATE       PERDAY     DURATION\n",
       "count  2275.000000                           2275  2275.000000  2275.000000\n",
       "mean     46.050549  2024-02-03 03:53:33.890109696     7.959560    44.778022\n",
       "min       1.000000            2022-01-01 00:00:00     2.000000    20.000000\n",
       "25%      23.000000            2022-11-04 00:00:00     4.000000    30.000000\n",
       "50%      46.000000            2023-12-23 00:00:00     6.000000    50.000000\n",
       "75%      69.000000            2025-03-06 12:00:00     8.000000    50.000000\n",
       "max     100.000000            2028-10-08 00:00:00    20.000000   100.000000\n",
       "std      26.366232                            NaN     6.260129    16.971222"
      ]
     },
     "execution_count": 65,
     "metadata": {},
     "output_type": "execute_result"
    }
   ],
   "source": [
    "df.describe()"
   ]
  },
  {
   "cell_type": "markdown",
   "id": "af115f83-e162-4a42-9c6f-9f648aa8f419",
   "metadata": {},
   "source": [
    "### **2.6 Look for unique values**"
   ]
  },
  {
   "cell_type": "code",
   "execution_count": 66,
   "id": "b753e8cc-7587-4583-b188-75b14ba4578e",
   "metadata": {},
   "outputs": [
    {
     "ename": "KeyError",
     "evalue": "'pnr'",
     "output_type": "error",
     "traceback": [
      "\u001b[1;31m---------------------------------------------------------------------------\u001b[0m",
      "\u001b[1;31mKeyError\u001b[0m                                  Traceback (most recent call last)",
      "File \u001b[1;32m~\\anaconda3\\Lib\\site-packages\\pandas\\core\\indexes\\base.py:3791\u001b[0m, in \u001b[0;36mIndex.get_loc\u001b[1;34m(self, key)\u001b[0m\n\u001b[0;32m   3790\u001b[0m \u001b[38;5;28;01mtry\u001b[39;00m:\n\u001b[1;32m-> 3791\u001b[0m     \u001b[38;5;28;01mreturn\u001b[39;00m \u001b[38;5;28mself\u001b[39m\u001b[38;5;241m.\u001b[39m_engine\u001b[38;5;241m.\u001b[39mget_loc(casted_key)\n\u001b[0;32m   3792\u001b[0m \u001b[38;5;28;01mexcept\u001b[39;00m \u001b[38;5;167;01mKeyError\u001b[39;00m \u001b[38;5;28;01mas\u001b[39;00m err:\n",
      "File \u001b[1;32mindex.pyx:152\u001b[0m, in \u001b[0;36mpandas._libs.index.IndexEngine.get_loc\u001b[1;34m()\u001b[0m\n",
      "File \u001b[1;32mindex.pyx:181\u001b[0m, in \u001b[0;36mpandas._libs.index.IndexEngine.get_loc\u001b[1;34m()\u001b[0m\n",
      "File \u001b[1;32mpandas\\_libs\\hashtable_class_helper.pxi:7080\u001b[0m, in \u001b[0;36mpandas._libs.hashtable.PyObjectHashTable.get_item\u001b[1;34m()\u001b[0m\n",
      "File \u001b[1;32mpandas\\_libs\\hashtable_class_helper.pxi:7088\u001b[0m, in \u001b[0;36mpandas._libs.hashtable.PyObjectHashTable.get_item\u001b[1;34m()\u001b[0m\n",
      "\u001b[1;31mKeyError\u001b[0m: 'pnr'",
      "\nThe above exception was the direct cause of the following exception:\n",
      "\u001b[1;31mKeyError\u001b[0m                                  Traceback (most recent call last)",
      "Cell \u001b[1;32mIn[66], line 1\u001b[0m\n\u001b[1;32m----> 1\u001b[0m \u001b[38;5;28mprint\u001b[39m(\u001b[38;5;124m\"\u001b[39m\u001b[38;5;130;01m\\n\u001b[39;00m\u001b[38;5;124mUnique Patients:\u001b[39m\u001b[38;5;124m\"\u001b[39m, df[\u001b[38;5;124m'\u001b[39m\u001b[38;5;124mpnr\u001b[39m\u001b[38;5;124m'\u001b[39m]\u001b[38;5;241m.\u001b[39mnunique())\n\u001b[0;32m      2\u001b[0m \u001b[38;5;28mprint\u001b[39m(\u001b[38;5;124m\"\u001b[39m\u001b[38;5;124mUnique Medication Categories:\u001b[39m\u001b[38;5;124m\"\u001b[39m, df[\u001b[38;5;124m'\u001b[39m\u001b[38;5;124mATC\u001b[39m\u001b[38;5;124m'\u001b[39m]\u001b[38;5;241m.\u001b[39mnunique())\n",
      "File \u001b[1;32m~\\anaconda3\\Lib\\site-packages\\pandas\\core\\frame.py:3893\u001b[0m, in \u001b[0;36mDataFrame.__getitem__\u001b[1;34m(self, key)\u001b[0m\n\u001b[0;32m   3891\u001b[0m \u001b[38;5;28;01mif\u001b[39;00m \u001b[38;5;28mself\u001b[39m\u001b[38;5;241m.\u001b[39mcolumns\u001b[38;5;241m.\u001b[39mnlevels \u001b[38;5;241m>\u001b[39m \u001b[38;5;241m1\u001b[39m:\n\u001b[0;32m   3892\u001b[0m     \u001b[38;5;28;01mreturn\u001b[39;00m \u001b[38;5;28mself\u001b[39m\u001b[38;5;241m.\u001b[39m_getitem_multilevel(key)\n\u001b[1;32m-> 3893\u001b[0m indexer \u001b[38;5;241m=\u001b[39m \u001b[38;5;28mself\u001b[39m\u001b[38;5;241m.\u001b[39mcolumns\u001b[38;5;241m.\u001b[39mget_loc(key)\n\u001b[0;32m   3894\u001b[0m \u001b[38;5;28;01mif\u001b[39;00m is_integer(indexer):\n\u001b[0;32m   3895\u001b[0m     indexer \u001b[38;5;241m=\u001b[39m [indexer]\n",
      "File \u001b[1;32m~\\anaconda3\\Lib\\site-packages\\pandas\\core\\indexes\\base.py:3798\u001b[0m, in \u001b[0;36mIndex.get_loc\u001b[1;34m(self, key)\u001b[0m\n\u001b[0;32m   3793\u001b[0m     \u001b[38;5;28;01mif\u001b[39;00m \u001b[38;5;28misinstance\u001b[39m(casted_key, \u001b[38;5;28mslice\u001b[39m) \u001b[38;5;129;01mor\u001b[39;00m (\n\u001b[0;32m   3794\u001b[0m         \u001b[38;5;28misinstance\u001b[39m(casted_key, abc\u001b[38;5;241m.\u001b[39mIterable)\n\u001b[0;32m   3795\u001b[0m         \u001b[38;5;129;01mand\u001b[39;00m \u001b[38;5;28many\u001b[39m(\u001b[38;5;28misinstance\u001b[39m(x, \u001b[38;5;28mslice\u001b[39m) \u001b[38;5;28;01mfor\u001b[39;00m x \u001b[38;5;129;01min\u001b[39;00m casted_key)\n\u001b[0;32m   3796\u001b[0m     ):\n\u001b[0;32m   3797\u001b[0m         \u001b[38;5;28;01mraise\u001b[39;00m InvalidIndexError(key)\n\u001b[1;32m-> 3798\u001b[0m     \u001b[38;5;28;01mraise\u001b[39;00m \u001b[38;5;167;01mKeyError\u001b[39;00m(key) \u001b[38;5;28;01mfrom\u001b[39;00m \u001b[38;5;21;01merr\u001b[39;00m\n\u001b[0;32m   3799\u001b[0m \u001b[38;5;28;01mexcept\u001b[39;00m \u001b[38;5;167;01mTypeError\u001b[39;00m:\n\u001b[0;32m   3800\u001b[0m     \u001b[38;5;66;03m# If we have a listlike key, _check_indexing_error will raise\u001b[39;00m\n\u001b[0;32m   3801\u001b[0m     \u001b[38;5;66;03m#  InvalidIndexError. Otherwise we fall through and re-raise\u001b[39;00m\n\u001b[0;32m   3802\u001b[0m     \u001b[38;5;66;03m#  the TypeError.\u001b[39;00m\n\u001b[0;32m   3803\u001b[0m     \u001b[38;5;28mself\u001b[39m\u001b[38;5;241m.\u001b[39m_check_indexing_error(key)\n",
      "\u001b[1;31mKeyError\u001b[0m: 'pnr'"
     ]
    }
   ],
   "source": [
    "print(\"\\nUnique Patients:\", df['pnr'].nunique())\n",
    "print(\"Unique Medication Categories:\", df['ATC'].nunique())"
   ]
  },
  {
   "cell_type": "markdown",
   "id": "8454c2de-6d40-4e59-87d3-0f617e20a034",
   "metadata": {},
   "source": [
    "### **2.7 Distribution of numerical variables**"
   ]
  },
  {
   "cell_type": "code",
   "execution_count": null,
   "id": "4d741f3e-16d2-4595-8fe5-3b9d73611665",
   "metadata": {},
   "outputs": [],
   "source": [
    "fig, axes = plt.subplots(1, 2, figsize=(12, 5))\n",
    "sns.histplot(df['perday'], bins=20, kde=True, ax=axes[0])\n",
    "axes[0].set_title('Distribution of Daily Medication Dosage (PERDAY)')\n",
    "axes[0].set_xlabel('Average Daily Dosage (Doses per Day)')\n",
    "axes[0].set_ylabel('Frequency of Patients')\n",
    "\n",
    "sns.histplot(df['dur_original'], bins=20, kde=True, ax=axes[1])\n",
    "axes[1].set_title('Distribution of Medication Duration (DURATION)')\n",
    "axes[1].set_xlabel('Prescription Duration (Days)')\n",
    "axes[1].set_ylabel('Frequency of Prescriptions')\n",
    "plt.show()"
   ]
  },
  {
   "cell_type": "markdown",
   "id": "01f1a282-aaa9-43f4-8a8d-b98884aa9525",
   "metadata": {},
   "source": [
    "### **2.8 Medication trends**"
   ]
  },
  {
   "cell_type": "code",
   "execution_count": null,
   "id": "4b6cbc07-f047-425c-8b20-7435c508b88e",
   "metadata": {},
   "outputs": [],
   "source": [
    "df_time_series = df.groupby('eksd').size()\n",
    "plt.figure(figsize=(12, 5))\n",
    "plt.plot(df_time_series, marker='o', linestyle='-', color='b')\n",
    "plt.title('Trend of Medication Dispensing Events Over Time')\n",
    "plt.xlabel('Prescription Refill Date')\n",
    "plt.ylabel('Count of Dispensing Events')\n",
    "plt.xticks(rotation=45)\n",
    "plt.grid(True)\n",
    "plt.show()"
   ]
  },
  {
   "cell_type": "markdown",
   "id": "c25f87d5-33ee-48c6-a333-8e10d2f718e7",
   "metadata": {},
   "source": [
    "### **2.8 Check for outliers**"
   ]
  },
  {
   "cell_type": "code",
   "execution_count": null,
   "id": "2cdc1a02-36f1-461b-a5dd-c7693ffe58d2",
   "metadata": {},
   "outputs": [],
   "source": [
    "fig, axes = plt.subplots(1, 2, figsize=(12, 5))\n",
    "sns.boxplot(y=df['perday'], ax=axes[0], color='lightblue')\n",
    "axes[0].set_title('Outlier Detection - Daily Medication Dosage (PERDAY)')\n",
    "axes[0].set_ylabel('Average Daily Dosage (Doses per Day)')\n",
    "\n",
    "sns.boxplot(y=df['dur_original'], ax=axes[1], color='lightblue')\n",
    "axes[1].set_title('Outlier Detection - Medication Duration (DURATION)')\n",
    "axes[1].set_ylabel('Prescription Duration (Days)')\n",
    "plt.show()"
   ]
  },
  {
   "cell_type": "markdown",
   "id": "916b8f28-e5a5-4f24-9932-06d8d632dd14",
   "metadata": {},
   "source": [
    "### **2.9 Category distribution**"
   ]
  },
  {
   "cell_type": "code",
   "execution_count": null,
   "id": "08fd9c54-5287-4006-b8dc-952000285b82",
   "metadata": {},
   "outputs": [],
   "source": [
    "plt.figure(figsize=(8,5))\n",
    "sns.countplot(x=df['ATC'], order=df['ATC'].value_counts().index, palette='pastel')\n",
    "plt.title('Medication Category Distribution')\n",
    "plt.xlabel('Medication Type')\n",
    "plt.ylabel('Count of Dispensing Events')\n",
    "plt.show()"
   ]
  },
  {
   "cell_type": "code",
   "execution_count": null,
   "id": "807d6efd-37a6-491c-a5a3-de4f883c57d2",
   "metadata": {},
   "outputs": [],
   "source": [
    "# Encoding CATEGORY column\n",
    "label_encoder = LabelEncoder()\n",
    "df['CATEGORY_ENCODED'] = label_encoder.fit_transform(df['ATC'])"
   ]
  },
  {
   "cell_type": "markdown",
   "id": "d10f98a3-2797-43a5-88bd-5e3f7210c4a3",
   "metadata": {},
   "source": [
    "### **2.10 Correlation Heatmap**"
   ]
  },
  {
   "cell_type": "code",
   "execution_count": null,
   "id": "b4db8b18-9445-4386-b6f3-4e24ddfd2043",
   "metadata": {},
   "outputs": [],
   "source": [
    "plt.figure(figsize=(8,6))\n",
    "sns.heatmap(df[['perday', 'dur_original', 'CATEGORY_ENCODED']].corr(), annot=True, cmap='coolwarm')\n",
    "plt.title('Correlation Heatmap of Medication Adherence Features')\n",
    "plt.xlabel('Adherence-Related Variables')\n",
    "plt.ylabel('Adherence-Related Variables')\n",
    "plt.show()"
   ]
  },
  {
   "cell_type": "markdown",
   "id": "6a2bc394-387d-4a47-b39d-4a7881f64f92",
   "metadata": {},
   "source": [
    "### **2.11 Pairplot for feature relationships**"
   ]
  },
  {
   "cell_type": "code",
   "execution_count": null,
   "id": "dcfb58a3-4174-4357-9c1a-dfece9a27d87",
   "metadata": {},
   "outputs": [],
   "source": [
    "sns.pairplot(df, vars=['perday', 'dur_original'], hue='ATC', diag_kind='kde')\n",
    "plt.suptitle('Pairplot of Medication Adherence Features')\n",
    "plt.show()"
   ]
  },
  {
   "cell_type": "code",
   "execution_count": null,
   "id": "bfd99818-f6dc-4fb0-97b7-5360f2cfc2fb",
   "metadata": {},
   "outputs": [],
   "source": [
    "# Standardizing numerical features\n",
    "scaler = StandardScaler()\n",
    "df[['perday', 'dur_original', 'CATEGORY_ENCODED']] = scaler.fit_transform(df[['perday', 'dur_original', 'CATEGORY_ENCODED']])"
   ]
  },
  {
   "cell_type": "code",
   "execution_count": null,
   "id": "5af704ee-0e46-43dc-9c0f-86be41b6fcb9",
   "metadata": {},
   "outputs": [],
   "source": []
  },
  {
   "cell_type": "markdown",
   "id": "9be80f8e-27be-4b42-8d0a-08c1a9431154",
   "metadata": {},
   "source": [
    "<hr>"
   ]
  },
  {
   "cell_type": "markdown",
   "id": "9f718afc-661a-4895-aa36-fb9874a3f979",
   "metadata": {},
   "source": [
    "## **3. Clustering**"
   ]
  },
  {
   "cell_type": "code",
   "execution_count": null,
   "id": "339ed571-44f8-4b04-9e70-4049744b8269",
   "metadata": {},
   "outputs": [],
   "source": [
    "if \"CATEGORY_ENCODED\" in df.columns:\n",
    "    df = df.drop(columns=[\"CATEGORY_ENCODED\"])"
   ]
  },
  {
   "cell_type": "markdown",
   "id": "8cf1fe95-9abe-4300-a1e0-8f23b8d78593",
   "metadata": {},
   "source": [
    "### **3.1 Callable functions**"
   ]
  },
  {
   "cell_type": "markdown",
   "id": "cf795968-36fe-4061-bb39-45136b8e51d1",
   "metadata": {},
   "source": [
    "### **3.1.1 Rename columns so that to match SEE.R script**"
   ]
  },
  {
   "cell_type": "code",
   "execution_count": null,
   "id": "92702f89-45a7-4bd1-b6ac-687618223400",
   "metadata": {},
   "outputs": [],
   "source": [
    "df.columns = [\"pnr\", \"eksd\", \"perday\", \"ATC\", \"dur_original\"]\n",
    "df[\"eksd\"] = pd.to_datetime(df[\"eksd\"], format='%m/%d/%Y')"
   ]
  },
  {
   "cell_type": "markdown",
   "id": "a2ab156d-e531-4ad2-84c2-fd4c2c3792dc",
   "metadata": {},
   "source": [
    "### **3.1.2 SEE using K-means clustering definition**"
   ]
  },
  {
   "cell_type": "code",
   "execution_count": null,
   "id": "efebc9d2-cf2e-4336-8aee-a4e3629a81f9",
   "metadata": {},
   "outputs": [],
   "source": [
    "def SEE(arg1):\n",
    "    # Filter dataset based on medication category\n",
    "    C09CA01 = df[df[\"ATC\"] == arg1].copy()\n",
    "    \n",
    "    # Sort by patient and prescription date\n",
    "    C09CA01 = C09CA01.sort_values(by=[\"pnr\", \"eksd\"]).copy()\n",
    "    \n",
    "    # Compute previous prescription date\n",
    "    C09CA01[\"prev_eksd\"] = C09CA01.groupby(\"pnr\")[\"eksd\"].shift(1)\n",
    "    C09CA01.dropna(subset=[\"prev_eksd\"], inplace=True)\n",
    "    \n",
    "    # Compute event interval (time difference in days)\n",
    "    C09CA01[\"event_interval\"] = (C09CA01[\"eksd\"] - C09CA01[\"prev_eksd\"]).dt.days\n",
    "    \n",
    "    # Generate ECDF\n",
    "    sorted_intervals = np.sort(C09CA01[\"event_interval\"].values)\n",
    "    yvals = np.arange(1, len(sorted_intervals)+1) / len(sorted_intervals)\n",
    "    dfper = pd.DataFrame({\"x\": sorted_intervals, \"y\": yvals})\n",
    "    dfper = dfper[dfper[\"y\"] <= 0.8]  # Retain lower 80% of ECDF\n",
    "    \n",
    "    # ECDF Visualization\n",
    "    fig, axs = plt.subplots(1, 2, figsize=(12, 6))\n",
    "    axs[0].scatter(dfper[\"x\"], dfper[\"y\"], color='red', s=50)\n",
    "    axs[0].set_title(\"80% ECDF\")\n",
    "    axs[1].scatter(sorted_intervals, yvals, color='blue',  s=50)\n",
    "    axs[1].set_title(\"100% ECDF\")\n",
    "    plt.show()\n",
    "    \n",
    "    # Density Estimation\n",
    "    log_intervals = np.log(dfper[\"x\"])\n",
    "    kde = gaussian_kde(log_intervals)\n",
    "    x_vals = np.linspace(log_intervals.min(), log_intervals.max(), 100)\n",
    "    plt.plot(x_vals, kde(x_vals), color='green')\n",
    "    plt.title(\"Log(Event Interval) Density Plot\")\n",
    "    plt.show()\n",
    "    \n",
    "    # Silhouette Score for Optimal Clustering\n",
    "    X = dfper[[\"x\"]].values\n",
    "    X_scaled = StandardScaler().fit_transform(X)\n",
    "    best_k = 2\n",
    "    best_score = -1\n",
    "    for k in range(2, 10):\n",
    "        km = KMeans(n_clusters=k, random_state=1234).fit(X_scaled)\n",
    "        score = silhouette_score(X_scaled, km.labels_)\n",
    "        if score > best_score:\n",
    "            best_score = score\n",
    "            best_k = k\n",
    "    \n",
    "    # K-Means Clustering\n",
    "    kmeans = KMeans(n_clusters=best_k, random_state=1234).fit(X_scaled)\n",
    "    dfper[\"cluster\"] = kmeans.labels_\n",
    "    \n",
    "    # Compute cluster summary statistics\n",
    "    cluster_summary = dfper.groupby(\"cluster\")[\"x\"].agg([\"min\", \"max\", \"median\"]).reset_index()\n",
    "    \n",
    "    # Assign Cluster to Data\n",
    "    C09CA01 = C09CA01.merge(cluster_summary, left_on=\"event_interval\", right_on=\"min\", how=\"left\")\n",
    "    C09CA01[\"cluster\"] = C09CA01[\"cluster\"].fillna(0).astype(int)\n",
    "    \n",
    "    return C09CA01"
   ]
  },
  {
   "cell_type": "markdown",
   "id": "c889c2e9-607a-4021-82ce-f7fa20bee4c3",
   "metadata": {},
   "source": [
    "### **3.1.2 SEE assumption**"
   ]
  },
  {
   "cell_type": "code",
   "execution_count": null,
   "id": "bec3b19a-7c97-4ea4-ac5f-e493eb0c47a1",
   "metadata": {},
   "outputs": [],
   "source": [
    "def see_assumption(arg1):\n",
    "    if arg1.empty:\n",
    "        print(\"Warning: No valid data for boxplot.\")\n",
    "        return np.nan\n",
    "\n",
    "    arg1 = arg1.sort_values(by=[\"pnr\", \"eksd\"]).copy()\n",
    "    arg1[\"prev_eksd\"] = arg1.groupby(\"pnr\")[\"eksd\"].shift(1)\n",
    "    arg1[\"p_number\"] = arg1.groupby(\"pnr\").cumcount() + 1\n",
    "    \n",
    "    Drug_see2 = arg1[arg1[\"p_number\"] >= 2].copy()\n",
    "\n",
    "    print(f\"Total Rows Before Filtering: {arg1.shape[0]}\")\n",
    "    print(f\"Total Rows After Filtering (p_number ≥ 2): {Drug_see2.shape[0]}\")\n",
    "    \n",
    "    if Drug_see2.empty:\n",
    "        print(\"Warning: No valid Duration values for boxplot.\")\n",
    "        return np.nan\n",
    "\n",
    "    Drug_see2[\"Duration\"] = (Drug_see2[\"eksd\"] - Drug_see2[\"prev_eksd\"]).dt.days\n",
    "    Drug_see2[\"p_number\"] = Drug_see2[\"p_number\"].astype(\"category\")\n",
    "\n",
    "    plt.figure(figsize=(8, 6))\n",
    "    sns.boxplot(x=\"p_number\", y=\"Duration\", data=Drug_see2)\n",
    "    plt.title(\"Boxplot of Duration by p_number\")\n",
    "    plt.xlabel(\"Prescription Sequence\")\n",
    "    plt.ylabel(\"Duration (Days)\")\n",
    "\n",
    "    medians_of_medians = Drug_see2.groupby(\"pnr\")[\"Duration\"].median().reset_index(name=\"median_duration\")\n",
    "    plt.axhline(y=medians_of_medians[\"median_duration\"].median(), color=\"red\", linestyle=\"dashed\", alpha=0.5)\n",
    "\n",
    "    plt.tight_layout()\n",
    "    plt.show()\n",
    "\n",
    "    return"
   ]
  },
  {
   "cell_type": "markdown",
   "id": "7ffa7773-d75e-41e6-a6e2-4649db7f554a",
   "metadata": {},
   "source": [
    "### **3.2 Sessa Empirical Estimator using K-Means**"
   ]
  },
  {
   "cell_type": "markdown",
   "id": "787ca226-acfa-487e-82f0-58faa214d8d5",
   "metadata": {},
   "source": [
    "### **3.2.1 ATC = medA**"
   ]
  },
  {
   "cell_type": "code",
   "execution_count": null,
   "id": "3d44f2c4-d8fb-418e-ae2f-83c3660a856f",
   "metadata": {},
   "outputs": [],
   "source": [
    "medA = SEE(\"medA\")"
   ]
  },
  {
   "cell_type": "markdown",
   "id": "5250b6ca-f20c-424a-842c-7a03e1499b4b",
   "metadata": {},
   "source": [
    "### **3.2.2 ATC = medB**"
   ]
  },
  {
   "cell_type": "code",
   "execution_count": null,
   "id": "8812b6b0-4981-489e-879c-c81135791f6c",
   "metadata": {},
   "outputs": [],
   "source": [
    "medB = SEE(\"medB\")"
   ]
  },
  {
   "cell_type": "markdown",
   "id": "eca3d89e-16d6-469b-92b9-ed3de08a416b",
   "metadata": {},
   "source": [
    "### **3.2.3 SEE Assumption of medA**"
   ]
  },
  {
   "cell_type": "code",
   "execution_count": null,
   "id": "febb0b1d-d5aa-403f-9efe-12551535854c",
   "metadata": {},
   "outputs": [],
   "source": [
    "see_assumption(medA)"
   ]
  },
  {
   "cell_type": "markdown",
   "id": "2a99fb35-aa8e-4d1f-b9b2-7b114102652e",
   "metadata": {},
   "source": [
    "### **3.2.4 SEE Assumption of medB**"
   ]
  },
  {
   "cell_type": "code",
   "execution_count": null,
   "id": "5e18f424-1102-4d4e-9669-fe5c84f809ad",
   "metadata": {},
   "outputs": [],
   "source": [
    "see_assumption(medB)"
   ]
  },
  {
   "cell_type": "markdown",
   "id": "ddfc9521-d562-4f58-8328-3dc2f7a62c4a",
   "metadata": {},
   "source": [
    "### **3.3 Sessa Empirical Estimator using Hierarchal Clustering**"
   ]
  }
 ],
 "metadata": {
  "kernelspec": {
   "display_name": "Python 3 (ipykernel)",
   "language": "python",
   "name": "python3"
  },
  "language_info": {
   "codemirror_mode": {
    "name": "ipython",
    "version": 3
   },
   "file_extension": ".py",
   "mimetype": "text/x-python",
   "name": "python",
   "nbconvert_exporter": "python",
   "pygments_lexer": "ipython3",
   "version": "3.11.7"
  }
 },
 "nbformat": 4,
 "nbformat_minor": 5
}
